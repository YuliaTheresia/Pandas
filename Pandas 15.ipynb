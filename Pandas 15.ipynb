{
 "cells": [
  {
   "cell_type": "code",
   "execution_count": 1,
   "id": "7465245d-0ae0-4721-a464-00db549be3ed",
   "metadata": {},
   "outputs": [
    {
     "name": "stdout",
     "output_type": "stream",
     "text": [
      "2.2.2\n"
     ]
    }
   ],
   "source": [
    "import pandas as pd\n",
    "print(pd.__version__)"
   ]
  },
  {
   "cell_type": "code",
   "execution_count": 2,
   "id": "797c458c-aafd-4468-8bf4-cd923098ffa6",
   "metadata": {},
   "outputs": [
    {
     "data": {
      "text/html": [
       "<div>\n",
       "<style scoped>\n",
       "    .dataframe tbody tr th:only-of-type {\n",
       "        vertical-align: middle;\n",
       "    }\n",
       "\n",
       "    .dataframe tbody tr th {\n",
       "        vertical-align: top;\n",
       "    }\n",
       "\n",
       "    .dataframe thead th {\n",
       "        text-align: right;\n",
       "    }\n",
       "</style>\n",
       "<table border=\"1\" class=\"dataframe\">\n",
       "  <thead>\n",
       "    <tr style=\"text-align: right;\">\n",
       "      <th></th>\n",
       "      <th>nama</th>\n",
       "      <th>tempat_kelahiran</th>\n",
       "    </tr>\n",
       "  </thead>\n",
       "  <tbody>\n",
       "    <tr>\n",
       "      <th>0</th>\n",
       "      <td>Didi Kempot</td>\n",
       "      <td>Surakarta, Jawa Tengah</td>\n",
       "    </tr>\n",
       "    <tr>\n",
       "      <th>1</th>\n",
       "      <td>Glen Fedly</td>\n",
       "      <td>Jakarta, DKI Jakarta</td>\n",
       "    </tr>\n",
       "    <tr>\n",
       "      <th>2</th>\n",
       "      <td>Mbah Surip</td>\n",
       "      <td>Mojokerto, Jawa Timur</td>\n",
       "    </tr>\n",
       "  </tbody>\n",
       "</table>\n",
       "</div>"
      ],
      "text/plain": [
       "          nama        tempat_kelahiran\n",
       "0  Didi Kempot  Surakarta, Jawa Tengah\n",
       "1   Glen Fedly    Jakarta, DKI Jakarta\n",
       "2   Mbah Surip   Mojokerto, Jawa Timur"
      ]
     },
     "execution_count": 2,
     "metadata": {},
     "output_type": "execute_result"
    }
   ],
   "source": [
    "data = {'nama':['Didi Kempot', 'Glen Fedly', 'Mbah Surip'],\n",
    "        'tempat_kelahiran':['Surakarta, Jawa Tengah', 'Jakarta, DKI Jakarta', 'Mojokerto, Jawa Timur']}\n",
    "df = pd.DataFrame(data)\n",
    "df"
   ]
  },
  {
   "cell_type": "code",
   "execution_count": 3,
   "id": "1c7a8fb7-17b4-4972-9460-b50e7ba8070e",
   "metadata": {},
   "outputs": [
    {
     "data": {
      "text/html": [
       "<div>\n",
       "<style scoped>\n",
       "    .dataframe tbody tr th:only-of-type {\n",
       "        vertical-align: middle;\n",
       "    }\n",
       "\n",
       "    .dataframe tbody tr th {\n",
       "        vertical-align: top;\n",
       "    }\n",
       "\n",
       "    .dataframe thead th {\n",
       "        text-align: right;\n",
       "    }\n",
       "</style>\n",
       "<table border=\"1\" class=\"dataframe\">\n",
       "  <thead>\n",
       "    <tr style=\"text-align: right;\">\n",
       "      <th></th>\n",
       "      <th>nama</th>\n",
       "      <th>tempat_kelahiran</th>\n",
       "      <th>nama_depan</th>\n",
       "      <th>nama_belakang</th>\n",
       "    </tr>\n",
       "  </thead>\n",
       "  <tbody>\n",
       "    <tr>\n",
       "      <th>0</th>\n",
       "      <td>Didi Kempot</td>\n",
       "      <td>Surakarta, Jawa Tengah</td>\n",
       "      <td>Didi</td>\n",
       "      <td>Kempot</td>\n",
       "    </tr>\n",
       "    <tr>\n",
       "      <th>1</th>\n",
       "      <td>Glen Fedly</td>\n",
       "      <td>Jakarta, DKI Jakarta</td>\n",
       "      <td>Glen</td>\n",
       "      <td>Fedly</td>\n",
       "    </tr>\n",
       "    <tr>\n",
       "      <th>2</th>\n",
       "      <td>Mbah Surip</td>\n",
       "      <td>Mojokerto, Jawa Timur</td>\n",
       "      <td>Mbah</td>\n",
       "      <td>Surip</td>\n",
       "    </tr>\n",
       "  </tbody>\n",
       "</table>\n",
       "</div>"
      ],
      "text/plain": [
       "          nama        tempat_kelahiran nama_depan nama_belakang\n",
       "0  Didi Kempot  Surakarta, Jawa Tengah       Didi        Kempot\n",
       "1   Glen Fedly    Jakarta, DKI Jakarta       Glen         Fedly\n",
       "2   Mbah Surip   Mojokerto, Jawa Timur       Mbah         Surip"
      ]
     },
     "execution_count": 3,
     "metadata": {},
     "output_type": "execute_result"
    }
   ],
   "source": [
    "df[['nama_depan', 'nama_belakang']] = df['nama'].str.split(' ', expand=True)\n",
    "df"
   ]
  },
  {
   "cell_type": "code",
   "execution_count": 6,
   "id": "6fbba9ce-0b5e-4bd6-a1ef-9c0b436196b6",
   "metadata": {},
   "outputs": [
    {
     "data": {
      "text/html": [
       "<div>\n",
       "<style scoped>\n",
       "    .dataframe tbody tr th:only-of-type {\n",
       "        vertical-align: middle;\n",
       "    }\n",
       "\n",
       "    .dataframe tbody tr th {\n",
       "        vertical-align: top;\n",
       "    }\n",
       "\n",
       "    .dataframe thead th {\n",
       "        text-align: right;\n",
       "    }\n",
       "</style>\n",
       "<table border=\"1\" class=\"dataframe\">\n",
       "  <thead>\n",
       "    <tr style=\"text-align: right;\">\n",
       "      <th></th>\n",
       "      <th>nama</th>\n",
       "      <th>tempat_kelahiran</th>\n",
       "      <th>nama_depan</th>\n",
       "      <th>nama_belakang</th>\n",
       "      <th>kota</th>\n",
       "      <th>propinsi</th>\n",
       "    </tr>\n",
       "  </thead>\n",
       "  <tbody>\n",
       "    <tr>\n",
       "      <th>0</th>\n",
       "      <td>Didi Kempot</td>\n",
       "      <td>Surakarta, Jawa Tengah</td>\n",
       "      <td>Didi</td>\n",
       "      <td>Kempot</td>\n",
       "      <td>Surakarta</td>\n",
       "      <td>Jawa Tengah</td>\n",
       "    </tr>\n",
       "    <tr>\n",
       "      <th>1</th>\n",
       "      <td>Glen Fedly</td>\n",
       "      <td>Jakarta, DKI Jakarta</td>\n",
       "      <td>Glen</td>\n",
       "      <td>Fedly</td>\n",
       "      <td>Jakarta</td>\n",
       "      <td>DKI Jakarta</td>\n",
       "    </tr>\n",
       "    <tr>\n",
       "      <th>2</th>\n",
       "      <td>Mbah Surip</td>\n",
       "      <td>Mojokerto, Jawa Timur</td>\n",
       "      <td>Mbah</td>\n",
       "      <td>Surip</td>\n",
       "      <td>Mojokerto</td>\n",
       "      <td>Jawa Timur</td>\n",
       "    </tr>\n",
       "  </tbody>\n",
       "</table>\n",
       "</div>"
      ],
      "text/plain": [
       "          nama        tempat_kelahiran nama_depan nama_belakang       kota  \\\n",
       "0  Didi Kempot  Surakarta, Jawa Tengah       Didi        Kempot  Surakarta   \n",
       "1   Glen Fedly    Jakarta, DKI Jakarta       Glen         Fedly    Jakarta   \n",
       "2   Mbah Surip   Mojokerto, Jawa Timur       Mbah         Surip  Mojokerto   \n",
       "\n",
       "       propinsi  \n",
       "0   Jawa Tengah  \n",
       "1   DKI Jakarta  \n",
       "2    Jawa Timur  "
      ]
     },
     "execution_count": 6,
     "metadata": {},
     "output_type": "execute_result"
    }
   ],
   "source": [
    "df[['kota', 'propinsi']] = df['tempat_kelahiran'].str.split(',', expand=True)\n",
    "df"
   ]
  },
  {
   "cell_type": "code",
   "execution_count": null,
   "id": "af128c5a-1e6e-4033-9981-c70409a7c4ac",
   "metadata": {},
   "outputs": [],
   "source": []
  }
 ],
 "metadata": {
  "kernelspec": {
   "display_name": "Python 3 (ipykernel)",
   "language": "python",
   "name": "python3"
  },
  "language_info": {
   "codemirror_mode": {
    "name": "ipython",
    "version": 3
   },
   "file_extension": ".py",
   "mimetype": "text/x-python",
   "name": "python",
   "nbconvert_exporter": "python",
   "pygments_lexer": "ipython3",
   "version": "3.12.7"
  }
 },
 "nbformat": 4,
 "nbformat_minor": 5
}
