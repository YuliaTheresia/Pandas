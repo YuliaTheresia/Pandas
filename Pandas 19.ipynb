{
 "cells": [
  {
   "cell_type": "code",
   "execution_count": 1,
   "id": "dbcefde0-b0bd-4015-aa76-5f36cfe426aa",
   "metadata": {},
   "outputs": [
    {
     "name": "stdout",
     "output_type": "stream",
     "text": [
      "2.2.2\n",
      "1.26.4\n"
     ]
    }
   ],
   "source": [
    "import pandas as pd \n",
    "import numpy as np \n",
    "\n",
    "print(pd.__version__)\n",
    "print(np.__version__)"
   ]
  },
  {
   "cell_type": "code",
   "execution_count": 4,
   "id": "9b787a2f-49d8-4d13-8899-6061020683bd",
   "metadata": {},
   "outputs": [
    {
     "data": {
      "text/html": [
       "<div>\n",
       "<style scoped>\n",
       "    .dataframe tbody tr th:only-of-type {\n",
       "        vertical-align: middle;\n",
       "    }\n",
       "\n",
       "    .dataframe tbody tr th {\n",
       "        vertical-align: top;\n",
       "    }\n",
       "\n",
       "    .dataframe thead th {\n",
       "        text-align: right;\n",
       "    }\n",
       "</style>\n",
       "<table border=\"1\" class=\"dataframe\">\n",
       "  <thead>\n",
       "    <tr style=\"text-align: right;\">\n",
       "      <th></th>\n",
       "      <th>omset</th>\n",
       "      <th>operasional</th>\n",
       "    </tr>\n",
       "  </thead>\n",
       "  <tbody>\n",
       "    <tr>\n",
       "      <th>0</th>\n",
       "      <td>4</td>\n",
       "      <td>16</td>\n",
       "    </tr>\n",
       "    <tr>\n",
       "      <th>1</th>\n",
       "      <td>8</td>\n",
       "      <td>13</td>\n",
       "    </tr>\n",
       "    <tr>\n",
       "      <th>2</th>\n",
       "      <td>8</td>\n",
       "      <td>1</td>\n",
       "    </tr>\n",
       "    <tr>\n",
       "      <th>3</th>\n",
       "      <td>8</td>\n",
       "      <td>13</td>\n",
       "    </tr>\n",
       "    <tr>\n",
       "      <th>4</th>\n",
       "      <td>6</td>\n",
       "      <td>3</td>\n",
       "    </tr>\n",
       "  </tbody>\n",
       "</table>\n",
       "</div>"
      ],
      "text/plain": [
       "   omset  operasional\n",
       "0      4           16\n",
       "1      8           13\n",
       "2      8            1\n",
       "3      8           13\n",
       "4      6            3"
      ]
     },
     "execution_count": 4,
     "metadata": {},
     "output_type": "execute_result"
    }
   ],
   "source": [
    "n_rows = 5\n",
    "n_cols = 2\n",
    "cols = ['omset', 'operasional']\n",
    "\n",
    "df = pd.DataFrame (np.random.randint(1, 20, size=(n_rows, n_cols)),\n",
    "                 columns=cols)\n",
    "\n",
    "df"
   ]
  },
  {
   "cell_type": "code",
   "execution_count": 6,
   "id": "bb2a4094-efed-471a-b03c-d6e36c27b6d3",
   "metadata": {},
   "outputs": [
    {
     "data": {
      "text/html": [
       "<div>\n",
       "<style scoped>\n",
       "    .dataframe tbody tr th:only-of-type {\n",
       "        vertical-align: middle;\n",
       "    }\n",
       "\n",
       "    .dataframe tbody tr th {\n",
       "        vertical-align: top;\n",
       "    }\n",
       "\n",
       "    .dataframe thead th {\n",
       "        text-align: right;\n",
       "    }\n",
       "</style>\n",
       "<table border=\"1\" class=\"dataframe\">\n",
       "  <thead>\n",
       "    <tr style=\"text-align: right;\">\n",
       "      <th></th>\n",
       "      <th>omset</th>\n",
       "      <th>operasional</th>\n",
       "    </tr>\n",
       "  </thead>\n",
       "  <tbody>\n",
       "    <tr>\n",
       "      <th>0</th>\n",
       "      <td>400000</td>\n",
       "      <td>160000</td>\n",
       "    </tr>\n",
       "    <tr>\n",
       "      <th>1</th>\n",
       "      <td>800000</td>\n",
       "      <td>130000</td>\n",
       "    </tr>\n",
       "    <tr>\n",
       "      <th>2</th>\n",
       "      <td>800000</td>\n",
       "      <td>10000</td>\n",
       "    </tr>\n",
       "    <tr>\n",
       "      <th>3</th>\n",
       "      <td>800000</td>\n",
       "      <td>130000</td>\n",
       "    </tr>\n",
       "    <tr>\n",
       "      <th>4</th>\n",
       "      <td>600000</td>\n",
       "      <td>30000</td>\n",
       "    </tr>\n",
       "  </tbody>\n",
       "</table>\n",
       "</div>"
      ],
      "text/plain": [
       "    omset  operasional\n",
       "0  400000       160000\n",
       "1  800000       130000\n",
       "2  800000        10000\n",
       "3  800000       130000\n",
       "4  600000        30000"
      ]
     },
     "execution_count": 6,
     "metadata": {},
     "output_type": "execute_result"
    }
   ],
   "source": [
    "df['omset'] = df['omset'] * 100_000\n",
    "df['operasional'] = df['operasional'] * 10_000\n",
    "\n",
    "df"
   ]
  },
  {
   "cell_type": "code",
   "execution_count": 7,
   "id": "97a44fea-a485-45f3-a00c-0057cc160bf2",
   "metadata": {},
   "outputs": [
    {
     "ename": "AttributeError",
     "evalue": "module 'pandas.util' has no attribute 'testing'",
     "output_type": "error",
     "traceback": [
      "\u001b[1;31m---------------------------------------------------------------------------\u001b[0m",
      "\u001b[1;31mAttributeError\u001b[0m                            Traceback (most recent call last)",
      "Cell \u001b[1;32mIn[7], line 1\u001b[0m\n\u001b[1;32m----> 1\u001b[0m df\u001b[38;5;241m.\u001b[39mindex \u001b[38;5;241m=\u001b[39m pd\u001b[38;5;241m.\u001b[39mutil\u001b[38;5;241m.\u001b[39mtesting\u001b[38;5;241m.\u001b[39mmakeDateIndex (n_rows, freq\u001b[38;5;241m=\u001b[39m\u001b[38;5;124m'\u001b[39m\u001b[38;5;124mD\u001b[39m\u001b[38;5;124m'\u001b[39m)\n\u001b[0;32m      2\u001b[0m df \u001b[38;5;241m=\u001b[39m df\u001b[38;5;241m.\u001b[39mreset_index ()\n\u001b[0;32m      3\u001b[0m df \u001b[38;5;241m=\u001b[39m df\u001b[38;5;241m.\u001b[39mrename (columns\u001b[38;5;241m=\u001b[39m{\u001b[38;5;124m'\u001b[39m\u001b[38;5;124mindex\u001b[39m\u001b[38;5;124m'\u001b[39m:\u001b[38;5;124m'\u001b[39m\u001b[38;5;124mtanggal\u001b[39m\u001b[38;5;124m'\u001b[39m})\n",
      "File \u001b[1;32mC:\\ProgramData\\anaconda3\\Lib\\site-packages\\pandas\\util\\__init__.py:25\u001b[0m, in \u001b[0;36m__getattr__\u001b[1;34m(key)\u001b[0m\n\u001b[0;32m     21\u001b[0m     \u001b[38;5;28;01mfrom\u001b[39;00m \u001b[38;5;21;01mpandas\u001b[39;00m\u001b[38;5;21;01m.\u001b[39;00m\u001b[38;5;21;01mutil\u001b[39;00m\u001b[38;5;21;01m.\u001b[39;00m\u001b[38;5;21;01m_decorators\u001b[39;00m \u001b[38;5;28;01mimport\u001b[39;00m cache_readonly\n\u001b[0;32m     23\u001b[0m     \u001b[38;5;28;01mreturn\u001b[39;00m cache_readonly\n\u001b[1;32m---> 25\u001b[0m \u001b[38;5;28;01mraise\u001b[39;00m \u001b[38;5;167;01mAttributeError\u001b[39;00m(\u001b[38;5;124mf\u001b[39m\u001b[38;5;124m\"\u001b[39m\u001b[38;5;124mmodule \u001b[39m\u001b[38;5;124m'\u001b[39m\u001b[38;5;124mpandas.util\u001b[39m\u001b[38;5;124m'\u001b[39m\u001b[38;5;124m has no attribute \u001b[39m\u001b[38;5;124m'\u001b[39m\u001b[38;5;132;01m{\u001b[39;00mkey\u001b[38;5;132;01m}\u001b[39;00m\u001b[38;5;124m'\u001b[39m\u001b[38;5;124m\"\u001b[39m)\n",
      "\u001b[1;31mAttributeError\u001b[0m: module 'pandas.util' has no attribute 'testing'"
     ]
    }
   ],
   "source": [
    "df.index = pd.util.testing.makeDateIndex (n_rows, freq='D')\n",
    "df = df.reset_index ()\n",
    "df = df.rename (columns={'index':'tanggal'})\n",
    "\n",
    "df"
   ]
  },
  {
   "cell_type": "code",
   "execution_count": 10,
   "id": "ce8d9727-416f-41be-ba8e-500c73bd5831",
   "metadata": {},
   "outputs": [
    {
     "data": {
      "text/html": [
       "<style type=\"text/css\">\n",
       "</style>\n",
       "<table id=\"T_124fd\">\n",
       "  <thead>\n",
       "    <tr>\n",
       "      <th class=\"blank level0\" >&nbsp;</th>\n",
       "      <th id=\"T_124fd_level0_col0\" class=\"col_heading level0 col0\" >omset</th>\n",
       "      <th id=\"T_124fd_level0_col1\" class=\"col_heading level0 col1\" >operasional</th>\n",
       "    </tr>\n",
       "  </thead>\n",
       "  <tbody>\n",
       "    <tr>\n",
       "      <th id=\"T_124fd_level0_row0\" class=\"row_heading level0 row0\" >0</th>\n",
       "      <td id=\"T_124fd_row0_col0\" class=\"data row0 col0\" >Rp 400000.00</td>\n",
       "      <td id=\"T_124fd_row0_col1\" class=\"data row0 col1\" >Rp 160000.00</td>\n",
       "    </tr>\n",
       "    <tr>\n",
       "      <th id=\"T_124fd_level0_row1\" class=\"row_heading level0 row1\" >1</th>\n",
       "      <td id=\"T_124fd_row1_col0\" class=\"data row1 col0\" >Rp 800000.00</td>\n",
       "      <td id=\"T_124fd_row1_col1\" class=\"data row1 col1\" >Rp 130000.00</td>\n",
       "    </tr>\n",
       "    <tr>\n",
       "      <th id=\"T_124fd_level0_row2\" class=\"row_heading level0 row2\" >2</th>\n",
       "      <td id=\"T_124fd_row2_col0\" class=\"data row2 col0\" >Rp 800000.00</td>\n",
       "      <td id=\"T_124fd_row2_col1\" class=\"data row2 col1\" >Rp 10000.00</td>\n",
       "    </tr>\n",
       "    <tr>\n",
       "      <th id=\"T_124fd_level0_row3\" class=\"row_heading level0 row3\" >3</th>\n",
       "      <td id=\"T_124fd_row3_col0\" class=\"data row3 col0\" >Rp 800000.00</td>\n",
       "      <td id=\"T_124fd_row3_col1\" class=\"data row3 col1\" >Rp 130000.00</td>\n",
       "    </tr>\n",
       "    <tr>\n",
       "      <th id=\"T_124fd_level0_row4\" class=\"row_heading level0 row4\" >4</th>\n",
       "      <td id=\"T_124fd_row4_col0\" class=\"data row4 col0\" >Rp 600000.00</td>\n",
       "      <td id=\"T_124fd_row4_col1\" class=\"data row4 col1\" >Rp 30000.00</td>\n",
       "    </tr>\n",
       "  </tbody>\n",
       "</table>\n"
      ],
      "text/plain": [
       "<pandas.io.formats.style.Styler at 0x2eff5b73fb0>"
      ]
     },
     "execution_count": 10,
     "metadata": {},
     "output_type": "execute_result"
    }
   ],
   "source": [
    "formatku = {'tanggal':'(:%d/%m/%y)',\n",
    "'operasional': 'Rp {:.2f}',\n",
    "'omset': 'Rp {:.2f}'}\n",
    "\n",
    "laporan = df.style.format (formatku)\n",
    "laporan"
   ]
  },
  {
   "cell_type": "code",
   "execution_count": 9,
   "id": "3adaa1df-27ec-4fc3-81bf-b20146d84691",
   "metadata": {},
   "outputs": [
    {
     "data": {
      "text/plain": [
       "pandas.io.formats.style.Styler"
      ]
     },
     "execution_count": 9,
     "metadata": {},
     "output_type": "execute_result"
    }
   ],
   "source": [
    "type (laporan)"
   ]
  },
  {
   "cell_type": "code",
   "execution_count": 11,
   "id": "6bbf8a20-25bd-4da1-b6b0-2ea2708edb9d",
   "metadata": {},
   "outputs": [
    {
     "ename": "AttributeError",
     "evalue": "'Styler' object has no attribute 'hide_index'",
     "output_type": "error",
     "traceback": [
      "\u001b[1;31m---------------------------------------------------------------------------\u001b[0m",
      "\u001b[1;31mAttributeError\u001b[0m                            Traceback (most recent call last)",
      "Cell \u001b[1;32mIn[11], line 1\u001b[0m\n\u001b[1;32m----> 1\u001b[0m laporan\u001b[38;5;241m.\u001b[39mhide_index()\n",
      "\u001b[1;31mAttributeError\u001b[0m: 'Styler' object has no attribute 'hide_index'"
     ]
    }
   ],
   "source": [
    "laporan.hide_index()"
   ]
  },
  {
   "cell_type": "code",
   "execution_count": 12,
   "id": "8f72e076-29cf-4322-9797-d9549e7c28e1",
   "metadata": {},
   "outputs": [
    {
     "data": {
      "text/html": [
       "<style type=\"text/css\">\n",
       "</style>\n",
       "<table id=\"T_124fd\">\n",
       "  <caption>Data Omset dan Operasional</caption>\n",
       "  <thead>\n",
       "    <tr>\n",
       "      <th class=\"blank level0\" >&nbsp;</th>\n",
       "      <th id=\"T_124fd_level0_col0\" class=\"col_heading level0 col0\" >omset</th>\n",
       "      <th id=\"T_124fd_level0_col1\" class=\"col_heading level0 col1\" >operasional</th>\n",
       "    </tr>\n",
       "  </thead>\n",
       "  <tbody>\n",
       "    <tr>\n",
       "      <th id=\"T_124fd_level0_row0\" class=\"row_heading level0 row0\" >0</th>\n",
       "      <td id=\"T_124fd_row0_col0\" class=\"data row0 col0\" >Rp 400000.00</td>\n",
       "      <td id=\"T_124fd_row0_col1\" class=\"data row0 col1\" >Rp 160000.00</td>\n",
       "    </tr>\n",
       "    <tr>\n",
       "      <th id=\"T_124fd_level0_row1\" class=\"row_heading level0 row1\" >1</th>\n",
       "      <td id=\"T_124fd_row1_col0\" class=\"data row1 col0\" >Rp 800000.00</td>\n",
       "      <td id=\"T_124fd_row1_col1\" class=\"data row1 col1\" >Rp 130000.00</td>\n",
       "    </tr>\n",
       "    <tr>\n",
       "      <th id=\"T_124fd_level0_row2\" class=\"row_heading level0 row2\" >2</th>\n",
       "      <td id=\"T_124fd_row2_col0\" class=\"data row2 col0\" >Rp 800000.00</td>\n",
       "      <td id=\"T_124fd_row2_col1\" class=\"data row2 col1\" >Rp 10000.00</td>\n",
       "    </tr>\n",
       "    <tr>\n",
       "      <th id=\"T_124fd_level0_row3\" class=\"row_heading level0 row3\" >3</th>\n",
       "      <td id=\"T_124fd_row3_col0\" class=\"data row3 col0\" >Rp 800000.00</td>\n",
       "      <td id=\"T_124fd_row3_col1\" class=\"data row3 col1\" >Rp 130000.00</td>\n",
       "    </tr>\n",
       "    <tr>\n",
       "      <th id=\"T_124fd_level0_row4\" class=\"row_heading level0 row4\" >4</th>\n",
       "      <td id=\"T_124fd_row4_col0\" class=\"data row4 col0\" >Rp 600000.00</td>\n",
       "      <td id=\"T_124fd_row4_col1\" class=\"data row4 col1\" >Rp 30000.00</td>\n",
       "    </tr>\n",
       "  </tbody>\n",
       "</table>\n"
      ],
      "text/plain": [
       "<pandas.io.formats.style.Styler at 0x2eff5b73fb0>"
      ]
     },
     "execution_count": 12,
     "metadata": {},
     "output_type": "execute_result"
    }
   ],
   "source": [
    "laporan.set_caption('Data Omset dan Operasional')"
   ]
  },
  {
   "cell_type": "code",
   "execution_count": 13,
   "id": "e65699bc-07b7-4cec-90f7-8be920b0fa4f",
   "metadata": {},
   "outputs": [
    {
     "data": {
      "text/html": [
       "<style type=\"text/css\">\n",
       "#T_124fd_row0_col0 {\n",
       "  background-color: pink;\n",
       "}\n",
       "#T_124fd_row0_col1 {\n",
       "  background-color: grey;\n",
       "}\n",
       "#T_124fd_row1_col0, #T_124fd_row2_col0, #T_124fd_row3_col0 {\n",
       "  background-color: lightgreen;\n",
       "}\n",
       "#T_124fd_row2_col1 {\n",
       "  background-color: lightblue;\n",
       "}\n",
       "</style>\n",
       "<table id=\"T_124fd\">\n",
       "  <caption>Data Omset dan Operasional</caption>\n",
       "  <thead>\n",
       "    <tr>\n",
       "      <th class=\"blank level0\" >&nbsp;</th>\n",
       "      <th id=\"T_124fd_level0_col0\" class=\"col_heading level0 col0\" >omset</th>\n",
       "      <th id=\"T_124fd_level0_col1\" class=\"col_heading level0 col1\" >operasional</th>\n",
       "    </tr>\n",
       "  </thead>\n",
       "  <tbody>\n",
       "    <tr>\n",
       "      <th id=\"T_124fd_level0_row0\" class=\"row_heading level0 row0\" >0</th>\n",
       "      <td id=\"T_124fd_row0_col0\" class=\"data row0 col0\" >Rp 400000.00</td>\n",
       "      <td id=\"T_124fd_row0_col1\" class=\"data row0 col1\" >Rp 160000.00</td>\n",
       "    </tr>\n",
       "    <tr>\n",
       "      <th id=\"T_124fd_level0_row1\" class=\"row_heading level0 row1\" >1</th>\n",
       "      <td id=\"T_124fd_row1_col0\" class=\"data row1 col0\" >Rp 800000.00</td>\n",
       "      <td id=\"T_124fd_row1_col1\" class=\"data row1 col1\" >Rp 130000.00</td>\n",
       "    </tr>\n",
       "    <tr>\n",
       "      <th id=\"T_124fd_level0_row2\" class=\"row_heading level0 row2\" >2</th>\n",
       "      <td id=\"T_124fd_row2_col0\" class=\"data row2 col0\" >Rp 800000.00</td>\n",
       "      <td id=\"T_124fd_row2_col1\" class=\"data row2 col1\" >Rp 10000.00</td>\n",
       "    </tr>\n",
       "    <tr>\n",
       "      <th id=\"T_124fd_level0_row3\" class=\"row_heading level0 row3\" >3</th>\n",
       "      <td id=\"T_124fd_row3_col0\" class=\"data row3 col0\" >Rp 800000.00</td>\n",
       "      <td id=\"T_124fd_row3_col1\" class=\"data row3 col1\" >Rp 130000.00</td>\n",
       "    </tr>\n",
       "    <tr>\n",
       "      <th id=\"T_124fd_level0_row4\" class=\"row_heading level0 row4\" >4</th>\n",
       "      <td id=\"T_124fd_row4_col0\" class=\"data row4 col0\" >Rp 600000.00</td>\n",
       "      <td id=\"T_124fd_row4_col1\" class=\"data row4 col1\" >Rp 30000.00</td>\n",
       "    </tr>\n",
       "  </tbody>\n",
       "</table>\n"
      ],
      "text/plain": [
       "<pandas.io.formats.style.Styler at 0x2eff5b73fb0>"
      ]
     },
     "execution_count": 13,
     "metadata": {},
     "output_type": "execute_result"
    }
   ],
   "source": [
    "laporan.highlight_min ('omset', color='pink') \n",
    "laporan.highlight_max ('omset', color='lightgreen')\n",
    "\n",
    "laporan.highlight_min('operasional', color='lightblue')\n",
    "laporan.highlight_max('operasional', color='grey')"
   ]
  }
 ],
 "metadata": {
  "kernelspec": {
   "display_name": "Python 3 (ipykernel)",
   "language": "python",
   "name": "python3"
  },
  "language_info": {
   "codemirror_mode": {
    "name": "ipython",
    "version": 3
   },
   "file_extension": ".py",
   "mimetype": "text/x-python",
   "name": "python",
   "nbconvert_exporter": "python",
   "pygments_lexer": "ipython3",
   "version": "3.12.7"
  }
 },
 "nbformat": 4,
 "nbformat_minor": 5
}
